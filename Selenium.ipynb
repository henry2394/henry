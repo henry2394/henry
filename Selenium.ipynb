{
 "cells": [
  {
   "cell_type": "markdown",
   "metadata": {},
   "source": [
    "# 1. Open web"
   ]
  },
  {
   "cell_type": "code",
   "execution_count": 50,
   "metadata": {
    "collapsed": true
   },
   "outputs": [
    {
     "name": "stdout",
     "output_type": "stream",
     "text": [
      "HTTP MethodsIn this tutorial we will talk about HTTP methods. HTTP methods are the standard way of sending information to and from a web server. To break it down, a website runs on a server or multiple servers and simple returns information to a client (web-browser). Information is exchanged between the client and the server […]\n",
      "Creating a Base Template So you may have realized that creating new web pages for every single page on our website is extremely inefficient. Especially when our website follows a theme and has similar elements (like a sidebar) on every page. This is where template inheritance comes in. We will talk about how to inherit […]\n",
      "Redirecting ContinuedStarting from where we left off in the last tutorial. I wanted to show how to redirect to a function that takes an argument (like our user function). To do this we simply need to define the parameter name and a value in the url_for function, like below.from flask import Flask, redirect, url_for app […]\n",
      "What is Flask?Flask is a known as a micro web framework. This means it provides some basic functionality to allow developers to build simple websites. It does not come with all the bells and whistles like some other web frameworks like django have and therefore is typically not used for complex websites. However, there is […]\n",
      "Up until this point we have only been able to get events the next upcoming events from our google calendar. In this tutorial I will show you how you can retrieve a list of events that occur in one day. Using Pyttsx3 In the previous tutorials we used gTTS (Google Text-to-Speech) to output audio and […]\n",
      "In this tutorial we will finish our get_date() function and test it out! PLEASE USE THE CODE BELOW, IT FIXES SOME ERRORS FROM THE VIDEO ABOVE Finishing get_date() Now that we have extracted the information from the text it’s time to process it. There are a few scenarios we need to consider: 1. We have […]\n",
      "Getting User Input In the last tutorial we learned how to output sound from our python script using the gTTS module. In this video we will do the opposite, we will get user input and turn it into text data that we can process. Let’s get started by creating a function called get_audio. def get_audio(): […]\n",
      "This PyQt5 Tutorial will show you how to create message boxes/popup windows using pyqt. We will use the QMessageBox class to accomplish this. Creating a Basic GUI I’ve started this tutorial by creating a very minimal GUI that contains one button. This way we can use the button press to trigger a popup/mesagebox. This is […]\n",
      "This PyQt5 Combobox tutorial will show how to create, use and manipulate comboboxes. For those of you unaware a combobox is a box that allows you to choose an item from a list of choices. Creating The GUI For this tutorial we will create a GUI that can simulate the XOR function. We will use […]\n",
      "This PyQt5 tutorial will show you how to display images using something called a QPixmap. Displaying an Image For this tutorial we will create an image using PyQt Designer and then change them image source from our python code. To display an image we can actually use a label! We will start by dragging in […]\n"
     ]
    }
   ],
   "source": [
    "from selenium import webdriver\n",
    "import time\n",
    "from selenium.webdriver.common.keys import Keys # cho phép ta thao tác với enter key như type st in séarch bar and hit enter\n",
    "from selenium.webdriver.common.by import By\n",
    "from selenium.webdriver.support.ui import WebDriverWait\n",
    "from selenium.webdriver.support import expected_conditions as EC\n",
    "\n",
    "path = \"C:\\Program Files (x86)\\chromedriver.exe\"\n",
    "driver =  webdriver.Chrome(path)\n",
    "driver.get('https://www.techwithtim.net/')  #Truy cập trang web\n"
   ]
  },
  {
   "cell_type": "markdown",
   "metadata": {},
   "source": [
    "# 2. Locating Elements\n",
    "- find_element_by_id\n",
    "- find_element_by_name\n",
    "- find_element_by_xpath\n",
    "- find_element_by_link_text\n",
    "- find_element_by_partial_link_text\n",
    "- find_element_by_tag_name\n",
    "- find_element_by_class_name\n",
    "- find_element_by_css_selector\n",
    "\n",
    "###### Muốn tìm nhiều element thí sử dụng các câu lệnh sau, dữ liệu sẽ được lưu lại dưới dạng List\n",
    "\n",
    "- find_elements_by_name\n",
    "- find_elements_by_xpath\n",
    "- find_elements_by_link_text\n",
    "- find_elements_by_partial_link_text\n",
    "- find_elements_by_tag_name\n",
    "- find_elements_by_class_name\n",
    "- find_elements_by_css_selector"
   ]
  },
  {
   "cell_type": "markdown",
   "metadata": {},
   "source": [
    "# 3. Navigating"
   ]
  },
  {
   "cell_type": "markdown",
   "metadata": {},
   "source": [
    "###### Sendkeys"
   ]
  },
  {
   "cell_type": "markdown",
   "metadata": {},
   "source": [
    "###### Drop-down select\n",
    "\n"
   ]
  },
  {
   "cell_type": "code",
   "execution_count": 13,
   "metadata": {},
   "outputs": [],
   "source": [
    "from selenium.webdriver.support.ui import Select\n",
    "import time\n",
    "path = \"C:\\Program Files (x86)\\chromedriver.exe\"\n",
    "driver =  webdriver.Chrome(path)\n",
    "driver.get('https://mdbootstrap.com/docs/b4/jquery/forms/select/')\n",
    "\n",
    "select = driver.find_element_by_class_name(\"custom-select\")\n",
    "selectObject = Select(select)\n",
    "\n",
    "selectObject.select_by_index(1) #select theo stt\n",
    "time.sleep(2)\n",
    "\n",
    "selectObject.select_by_value(\"2\") # <option value=\"2\">Two</option>\n",
    "time.sleep(2)\n",
    "\n",
    "\n",
    "selectObject.select_by_visible_text(\"Three\") # <option value=\"3\">Three</option>\n",
    "time.sleep(2)\n",
    "\n",
    "driver.close()"
   ]
  },
  {
   "cell_type": "markdown",
   "metadata": {},
   "source": [
    "###### Drag and drop\n"
   ]
  },
  {
   "cell_type": "code",
   "execution_count": null,
   "metadata": {},
   "outputs": [],
   "source": [
    "element = driver.find_element_by_name(\"source\")   #Tìm thẻ chứa vật thể\n",
    "target = driver.find_element_by_name(\"target\")    # Tìm thẻ chứa vị trí đến\n",
    "\n",
    "from selenium.webdriver import ActionChains\n",
    "action_chains = ActionChains(driver)\n",
    "\n",
    "action_chains.drag_and_drop(element, target).perform()   #di chuyển vật thể từ element -> targer"
   ]
  },
  {
   "cell_type": "markdown",
   "metadata": {},
   "source": [
    "######  Swich window\n",
    "Đôi khi 1 số web sẽ yêu cầu click link và mở 1 tab mới khi đó cần đổi trình duyệt để tiếp tục công việc"
   ]
  },
  {
   "cell_type": "code",
   "execution_count": 22,
   "metadata": {},
   "outputs": [
    {
     "name": "stderr",
     "output_type": "stream",
     "text": [
      "<ipython-input-22-988821520b79>:11: DeprecationWarning: use driver.switch_to.window instead\n",
      "  driver.switch_to_window(tabs[0])\n"
     ]
    }
   ],
   "source": [
    "# lấy danh sách cách tab được mở\n",
    "path = \"C:\\Program Files (x86)\\chromedriver.exe\"\n",
    "driver =  webdriver.Chrome(path)\n",
    "driver.get('http://demo.automationtesting.in/Windows.html')\n",
    "driver.find_element_by_xpath(\"//*[@id='Tabbed']/a/button\").click()\n",
    "\n",
    "tabs = driver.window_handles \n",
    "\n",
    "# Sử dụng vòng lặp để duyệt qua các tab hoặc có thể call trực tiếp vị trí trang\n",
    "\n",
    "driver.switch_to_window(tabs[0])   "
   ]
  },
  {
   "cell_type": "markdown",
   "metadata": {},
   "source": [
    "###### Popup thông báo (Yes/no)\n"
   ]
  },
  {
   "cell_type": "code",
   "execution_count": null,
   "metadata": {},
   "outputs": [],
   "source": [
    "driver.switch_to.alert.accept()  #để ấn đồng ý\n",
    "driver.switch_to.alert.dismiss() #để hủy"
   ]
  },
  {
   "cell_type": "markdown",
   "metadata": {},
   "source": [
    "###### History access"
   ]
  },
  {
   "cell_type": "code",
   "execution_count": null,
   "metadata": {},
   "outputs": [],
   "source": [
    "driver.forward() \n",
    "driver.back()"
   ]
  },
  {
   "cell_type": "markdown",
   "metadata": {},
   "source": [
    "###### ActionChains \n",
    "\n",
    "Là công cụ để tự động làm những hành động như di chuột, click button, key press hoặc tương tác với menu, kéo thả...\n",
    "\n",
    "Khi mà gọi Actionchains Object, Action sẽ được lưu lại và khi gọi thêm lệnh perform() thì action mới được thực hiện"
   ]
  },
  {
   "cell_type": "code",
   "execution_count": 4,
   "metadata": {},
   "outputs": [],
   "source": [
    "from selenium.webdriver import ActionChains\n",
    "\n",
    "ActionChains.click  #click element\n",
    "ActionChains.click_and_hold #Holds down the left mouse button on an element.\n",
    "ActionChains.context_click #Performs a context-click (right click) on an element.\n",
    "ActionChains.double_click #Double-clicks an element.\n",
    "ActionChains.drag_and_drop\n",
    "ActionChains.drag_and_drop_by_offset\n",
    "ActionChains.key_down\n",
    "ActionChains.key_up\n",
    "ActionChains.move_by_offset\n",
    "ActionChains.move_to_element #Moving the mouse to the middle of an element\n",
    "ActionChains.move_to_element_with_offset\n",
    "ActionChains.mro\n",
    "ActionChains.pause #Pause all inputs for the specified duration in seconds\n",
    "ActionChains.perform #Performs all stored actions.\n",
    "ActionChains.releasee \n",
    "ActionChains.reset_actions #Clears actions that are already stored locally and on the remote end\n",
    "ActionChains.send_keys\n",
    "ActionChains.send_keys_to_element"
   ]
  },
  {
   "cell_type": "code",
   "execution_count": 38,
   "metadata": {
    "scrolled": true
   },
   "outputs": [],
   "source": [
    "# Bài toán vui vẻ click cái bánh kiếm điểm rồi nâng cấp đồ\n",
    "\n",
    "from selenium import webdriver\n",
    "import time\n",
    "from selenium.webdriver import ActionChains\n",
    "\n",
    "#Cấu hình truy cập trang web\n",
    "path = \"C:\\Program Files (x86)\\chromedriver.exe\"\n",
    "driver =  webdriver.Chrome(path)\n",
    "driver.get('https://orteil.dashnet.org/cookieclicker/')\n",
    "\n",
    "\n",
    "driver.implicitly_wait(5) #chờ để cho các element xuất hiện\n",
    "\n",
    "#Click cái bánh kiếm poin\n",
    "cookie = driver.find_element_by_id(\"bigCookie\")\n",
    "#check số bánh đang có\n",
    "cookie_count = driver.find_element_by_id(\"cookies\")\n",
    "# item nâng cấp\n",
    "items = [driver.find_element_by_id(\"productPrice\" + str(i)) for i in range(1,-1,-1)] #rangr này để lùi từ 1 về 0 tức ưu tiên upgrace\n",
    "                                                                                #tính năng đắt hơn (number càng to càng giá trị)\n",
    "\n",
    "\n",
    "\n",
    "action = ActionChains(driver)\n",
    "action.click(cookie)\n",
    "\n",
    "for i in range(3000):\n",
    "    action.perform() #click bánh kiếm poin\n",
    "    count = int(cookie_count.text.split(\" \")[0]) #kiểm tra xem có bao nhiêu bánh\n",
    "    for item in items:\n",
    "        value = int(item.text)\n",
    "        if value <= count:\n",
    "            upgrade = ActionChains(driver)\n",
    "            upgrade.move_to_element(item)\n",
    "            upgrade.click()\n",
    "            upgrade.perform()\n"
   ]
  },
  {
   "cell_type": "markdown",
   "metadata": {},
   "source": [
    "# 4. Waits \n",
    "Khi một trang được tải bởi trình duyệt, các Element trong trang đó có thể load trong các khoảng thời gian khác nhau. Điều này làm cho việc định vị các element trở nên khó khăn. Waits cung cấp một số độ trễ giữa các hành động được thực hiện - chủ yếu là định vị một phần tử hoặc bất kỳ thao tác với phần tử. \n",
    "\n",
    "\n",
    "Selenium Webdriver cung cấp hai loại chờ - implicit & explicit"
   ]
  },
  {
   "cell_type": "markdown",
   "metadata": {},
   "source": [
    "### 4.1. Explicit Waits\n",
    "\n",
    "Explicit wait là tính năng giúp ta chờ 1 điều kiện nhất định xuất hiện xảy ra trước khi tiến hành bước tiếp theo"
   ]
  },
  {
   "cell_type": "code",
   "execution_count": null,
   "metadata": {},
   "outputs": [],
   "source": [
    "from selenium import webdriver\n",
    "from selenium.webdriver.common.by import By\n",
    "from selenium.webdriver.support.ui import WebDriverWait\n",
    "from selenium.webdriver.support import expected_conditions as EC\n",
    "\n",
    "driver = webdriver.Chrome()\n",
    "driver.get(\"http://somedomain/url_that_delays_loading\")\n",
    "\n",
    "# Chờ tối đa 10s để element được tìm thấy, nếu k tìm được sẽ báo lỗi timeoutException \n",
    "try:\n",
    "    element = WebDriverWait(driver, 10).until(\n",
    "        EC.presence_of_element_located((By.ID, \"myDynamicElement\"))\n",
    "    )\n",
    "finally:\n",
    "    driver.quit()"
   ]
  },
  {
   "cell_type": "code",
   "execution_count": null,
   "metadata": {},
   "outputs": [],
   "source": [
    "1 số điều kiện được dùng phổ biến:\n",
    "    \n",
    "    presence_of_element_located: checking that an element is present on the DOM of a page\n",
    "    visibility_of_element_located: tương tự trên nhưng Visibility có nghĩa element is not only displayed but also has a height and width that is greater than 0.\n",
    "    visibility_of\n",
    "    presence_of_all_elements_located\n",
    "    text_to_be_present_in_element\n",
    "    text_to_be_present_in_element_value\n",
    "    frame_to_be_available_and_switch_to_it\n",
    "    invisibility_of_element_located: checking that an element is either invisible or not present on the DOM\n",
    "    element_to_be_clickable\n",
    "    element_to_be_selected\n",
    "    element_located_to_be_selected\n",
    "    element_selection_state_to_be\n",
    "    element_located_selection_state_to_be\n",
    "    alert_is_present\n",
    "\n",
    "Chi tiết xem tại đây: https://www.selenium.dev/selenium/docs/api/py/webdriver_support/selenium.webdriver.support.expected_conditions.html"
   ]
  },
  {
   "cell_type": "markdown",
   "metadata": {},
   "source": [
    "###### 4.2. Implicit Waits\n",
    "Set khoảng thời gian cố định để chờ web load, giống time.sleep"
   ]
  }
 ],
 "metadata": {
  "kernelspec": {
   "display_name": "Python 3",
   "language": "python",
   "name": "python3"
  },
  "language_info": {
   "codemirror_mode": {
    "name": "ipython",
    "version": 3
   },
   "file_extension": ".py",
   "mimetype": "text/x-python",
   "name": "python",
   "nbconvert_exporter": "python",
   "pygments_lexer": "ipython3",
   "version": "3.8.5"
  }
 },
 "nbformat": 4,
 "nbformat_minor": 4
}
