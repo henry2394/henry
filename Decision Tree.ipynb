{
 "cells": [
  {
   "cell_type": "markdown",
   "metadata": {},
   "source": [
    "#####  Decision tree là một mô hình supervised learning, có thể được áp dụng vào cả hai bài toán classification và regression\n",
    "   - Regression Tree có biến mục tiêu là biến liên tục, trong khi Classification Tree có biến mục tiêu la biến phân loại.\n",
    "   - Trong Regression Tree, khi huấn luyện, giá trị tại nút lá bằng trung bình các giá trị biến mục tiêu của các điểm dữ liệu có trong nút đó. Nên khi đưa tập test vào, nếu các điểm dữ liệu rơi vào nút lá nào, kết quả trả ra sẽ là giá trị trung bình.\n",
    "   - Với Classification Tree, khi huấn luyện, giá trị tại nút lá(phân lớp) bằng giá trị có tần suất cao nhất(Mode) của các dữ liệu trong nút đó. Nên khi đưa tập test vào, nếu các điểm dữ liệu rơi vào nút lá nào, kết quả trả ra sẽ là Mode.\n",
    "\n",
    "   Tổng quan thì mô hình bắt đầu bằng việc chọn 1 feature là Root Nood, sau mỗi lần lặp của thuật toán sẽ sử dụng các feature chưa được dùng đến làm các node tiếp theo (Các kỹ thuật lựa chọn feature nào sẽ là node tiếp theo sẽ được trình bày chi tiết ở dưới). Thuật toán tiếp tục lặp lại trên mỗi tập con, chỉ lặp các feature chưa được chọn trước đó.\n",
    "\n",
    "- Mô hình có thể dừng lại trong một trong những trường hợp sau:\n",
    "      + Mọi output trong tập hợp con đều thuộc cùng một lớp\n",
    "      + Không còn Input nào được chọn. Trong trường hợp Output trong tập con không thuộc cùng một lớp thì sẽ được gắn nhãn bằng output phổ biến nhất trong tập hợp con.\n",
    "\n"
   ]
  },
  {
   "cell_type": "markdown",
   "metadata": {},
   "source": [
    "#  Lý thuyết Classification Tree"
   ]
  },
  {
   "cell_type": "markdown",
   "metadata": {},
   "source": [
    "####  Bước 1: Chọn Root node\n",
    "\n",
    "Bằng trực giác, một Root nood là tốt nhất nếu dữ liệu trong mỗi child node hoàn toàn thuộc vào một class–khi đó node này có thể được coi là một leaf node, tức ta không cần phân chia thêm nữa. Nếu dữ liệu trong các child node vẫn lẫn vào nhau theo tỉ lệ lớn, ta coi rằng phép phân chia đó chưa thực sự tốt. Từ nhận xét này, ta cần có một hàm số đo độ tinh khiết (purity), hoặc độ vẩn đục (impurity) của một phép phân chia. "
   ]
  },
  {
   "cell_type": "markdown",
   "metadata": {},
   "source": [
    "##### Các phương pháp lựa chọn node\n",
    "## 1.1 Gini Index\n",
    "- Là phương pháp tìm ra attribute có độ vẩn đục (impurity) thấp nhất trong các feature.\n",
    "- Nó áp dụng cho biến mục tiêu là biến phân loại có dạng “Success” và “Failure”\n",
    "- Nó chỉ được dùng cho phân nhánh nhị phân.\n",
    "- Giá trị của Gini càng cao thì tính đồng nhất càng cao\n",
    "\n",
    "Công thức : 1− ∑p(i)^2 trong đó ∑p(i)^2 là công thức tính GINI. 1- GINI = độ vẩn đục\n",
    "\n",
    "### ví dụ: \n",
    "<img src=\"gini.png\" width=\"800\" />\n",
    "\n",
    "###### Làm tương tự ở các Feature còn lại. Chọn ra Feature có độ vẩn đục Impurity thấp nhất là Node rồi lặp lại các bước trên"
   ]
  },
  {
   "attachments": {
    "image.png": {
     "image/png": "[encoded data removed]"
    }
   },
   "cell_type": "markdown",
   "metadata": {},
   "source": [
    "## 1.2 Information gain\n",
    "##### Entropy là chỉ số để đo độ hỗn loạn của dữ liệu.Entropy càng thấp thì độ hỗn loạn càng thấp, nghĩa là việc phân nhánh càng cho kết quả tốt\n",
    "\n",
    "- B1: Tính entrophy của cả tập dữ liệu \n",
    "![image.png](attachment:image.png)\n",
    "\n",
    "- B2: Tính Entropy cho từng node con sau khi phân nhánh và tính trọng số trung bình của toàn bộ nút con.\n",
    "\n",
    "\n",
    "- B3: Tính Information gain by Feature bằng công thức IG(Y|X) = H(Y) - H(Y|X)  và chọn Feature có IG cao nhất làm node\n",
    "###### Ví dụ \n",
    "\n",
    "<img src=\"IG.png\" width=\"800\" />\n",
    "\n",
    "\n"
   ]
  },
  {
   "cell_type": "markdown",
   "metadata": {},
   "source": [
    "## 1.3 Chi test (ít được dùng)\n",
    "- Tìm ra Feature có mức độ ảnh hưởng tới đầu ra lớn nhất. Chi-square được tính bằng cách tính tổng bình phương độ lệch chuẩn giữa các quan sát và kì vọng tần suất của biến phụ thuộc\n",
    "- Nó áp dụng cho biến mục tiêu là biến phân loại có dạng “Success” và “Failure”.\n",
    "- Nó có thể làm việc trên phân nhánh nhị phân và đa phân nhánh.\n",
    "- Giá trị của Chi-square càng cao thì ý nghĩa thống kê về sự khác nhau giữa node con và node cha càng cao.\n",
    "- Công thức tính Chi-square trên mỗi node Chi-square = ((Thực tế – Kì vọng)^2 / Kì vọng)^1/2\n",
    "- Tree sử dụng thuật toán Chi-square được gọi là CHAID(Chi-square Automatic Interaction Detectior)\n",
    "\n",
    "##### Các bước để tính chỉ số Chi-Square cho phân nhánh\n",
    "\n",
    "- Tính Chi-square cho từng node bằng cách tính độ lệch của Success và Failure\n",
    "- Tính Chi-square của phân nhánh bằng cách tính tổng Chi-square của Success và Failure\n",
    "##### Ví dụ: \n",
    "\n",
    "\n",
    "###### Phân nhánh theo thuộc tính Gender\n",
    "\n",
    "- Với node Female, Play = 2 và Not Play = 10 – 2 = 8\n",
    "- Giả sử Ở node cha, xác suất Play = Not Play = 0.5. Do đó kì vọng Play ở node con = 0.5 * 10 = 5 và kì vọng Not Play ở node con = 0.5 * 10 = 5\n",
    "- Tính toán độ lệch giữa thực tế và kì vọng. \n",
    "- Tính toán Chi-square trên từng node cho Play theo công thức Chi-square = ((Thực tế – Kì vọng)^2 / Kì vọng)^1/2\n",
    "- Thực hiện các bước tương tự với node Male.\n",
    "- Tính tổng các giá trị Chi-square\n",
    "\n",
    "<img src=\"Chisquare.png\" width=\"800\" />\n"
   ]
  },
  {
   "attachments": {
    "image.png": {
     "image/png": "[encoded data removed]"
    }
   },
   "cell_type": "markdown",
   "metadata": {},
   "source": [
    "## 1.4 Reduce Variance (ít được dùng)\n",
    "- Lựa chọn feature có phương sai bé nhất\n",
    "\n",
    "Cả ba thuật toán trên đều áp dụng cho Categorical Decision Tree. Reduction in Varicance là thuật toán sử dụng cho Regression Decision Tree. Thuật toán sử dụng phương sai để chọn việc phân nhánh. Phân nhánh nào có phương sai nhỏ hơn thì sẽ được chọn. Công thức tính như sau\n",
    "![image.png](attachment:image.png)\n",
    "Các bước tính Variance :\n",
    "\n",
    "- B1: Tính variance trên mỗi node\n",
    "- B2: Tính Variance cho mỗi phân nhánh bằng trung bình variance của các node con\n",
    "##### Ví dụ : Để đơn giản cho bài toán Regression , chuẩn hóa biến mục tiêu như sau : giá trị 1 = Play và giá trị 0 = Not play\n",
    "\n",
    "\n",
    "<img src=\"varian.png\" width=\"800\" />"
   ]
  },
  {
   "cell_type": "markdown",
   "metadata": {},
   "source": [
    "# Lý thuyết cơ bản Regression Tree"
   ]
  },
  {
   "cell_type": "markdown",
   "metadata": {},
   "source": [
    "- Về việc lựa chọn Root Node, trong trường hợp chỉ có 1 feature thì ta sẽ tính Sum of Squared Residuals tại mỗi điểm, chọn ra điểm có Residual thấp nhất làm mốc để chia dữ liệu. Trong trường hợp có nhiều feature thì tương tự như trên tuy nhiên ta sẽ tính thêm cho các feature còn lại, so sánh min(SSR) của các feature và chọn feature có giá trị min(SSR) thấp nhất làm root của tree\n",
    "- Giá trị ở mỗi Leaf được tính toán bằng average các giá trị trong nhóm đó\n",
    "    \n"
   ]
  },
  {
   "cell_type": "markdown",
   "metadata": {},
   "source": [
    "\n",
    "# So sánh Tree model với các model khác\n",
    "- Khi có MQH tuyến tính giữa biến độc lập và biến phụ thuộc thì nên dùng các model Regression để cho kết quả tốt hơn\n",
    "- Ngược lại MQH giữa X và Y là phức tạp, không có tuyến tính thì Tree Model sẽ là sự lựa chọn tốt hơn"
   ]
  },
  {
   "cell_type": "markdown",
   "metadata": {},
   "source": [
    "# Example"
   ]
  },
  {
   "cell_type": "code",
   "execution_count": 1,
   "metadata": {},
   "outputs": [],
   "source": [
    "import pandas as pd"
   ]
  },
  {
   "cell_type": "code",
   "execution_count": 25,
   "metadata": {
    "scrolled": true
   },
   "outputs": [
    {
     "data": {
      "text/html": [
       "<div>\n",
       "<style scoped>\n",
       "    .dataframe tbody tr th:only-of-type {\n",
       "        vertical-align: middle;\n",
       "    }\n",
       "\n",
       "    .dataframe tbody tr th {\n",
       "        vertical-align: top;\n",
       "    }\n",
       "\n",
       "    .dataframe thead th {\n",
       "        text-align: right;\n",
       "    }\n",
       "</style>\n",
       "<table border=\"1\" class=\"dataframe\">\n",
       "  <thead>\n",
       "    <tr style=\"text-align: right;\">\n",
       "      <th></th>\n",
       "      <th>company</th>\n",
       "      <th>job</th>\n",
       "      <th>degree</th>\n",
       "      <th>salary_more_then_100k</th>\n",
       "    </tr>\n",
       "  </thead>\n",
       "  <tbody>\n",
       "    <tr>\n",
       "      <th>0</th>\n",
       "      <td>google</td>\n",
       "      <td>sales executive</td>\n",
       "      <td>bachelors</td>\n",
       "      <td>0</td>\n",
       "    </tr>\n",
       "    <tr>\n",
       "      <th>1</th>\n",
       "      <td>google</td>\n",
       "      <td>sales executive</td>\n",
       "      <td>masters</td>\n",
       "      <td>0</td>\n",
       "    </tr>\n",
       "    <tr>\n",
       "      <th>2</th>\n",
       "      <td>google</td>\n",
       "      <td>business manager</td>\n",
       "      <td>bachelors</td>\n",
       "      <td>1</td>\n",
       "    </tr>\n",
       "    <tr>\n",
       "      <th>3</th>\n",
       "      <td>google</td>\n",
       "      <td>business manager</td>\n",
       "      <td>masters</td>\n",
       "      <td>1</td>\n",
       "    </tr>\n",
       "    <tr>\n",
       "      <th>4</th>\n",
       "      <td>google</td>\n",
       "      <td>computer programmer</td>\n",
       "      <td>bachelors</td>\n",
       "      <td>0</td>\n",
       "    </tr>\n",
       "  </tbody>\n",
       "</table>\n",
       "</div>"
      ],
      "text/plain": [
       "  company                  job     degree  salary_more_then_100k\n",
       "0  google      sales executive  bachelors                      0\n",
       "1  google      sales executive    masters                      0\n",
       "2  google     business manager  bachelors                      1\n",
       "3  google     business manager    masters                      1\n",
       "4  google  computer programmer  bachelors                      0"
      ]
     },
     "execution_count": 25,
     "metadata": {},
     "output_type": "execute_result"
    }
   ],
   "source": [
    "data = pd.read_csv('salaries.csv')\n",
    "data.head()"
   ]
  },
  {
   "cell_type": "code",
   "execution_count": 31,
   "metadata": {
    "scrolled": true
   },
   "outputs": [
    {
     "data": {
      "text/html": [
       "<div>\n",
       "<style scoped>\n",
       "    .dataframe tbody tr th:only-of-type {\n",
       "        vertical-align: middle;\n",
       "    }\n",
       "\n",
       "    .dataframe tbody tr th {\n",
       "        vertical-align: top;\n",
       "    }\n",
       "\n",
       "    .dataframe thead th {\n",
       "        text-align: right;\n",
       "    }\n",
       "</style>\n",
       "<table border=\"1\" class=\"dataframe\">\n",
       "  <thead>\n",
       "    <tr style=\"text-align: right;\">\n",
       "      <th></th>\n",
       "      <th>company</th>\n",
       "      <th>job</th>\n",
       "      <th>degree</th>\n",
       "    </tr>\n",
       "  </thead>\n",
       "  <tbody>\n",
       "    <tr>\n",
       "      <th>0</th>\n",
       "      <td>google</td>\n",
       "      <td>sales executive</td>\n",
       "      <td>bachelors</td>\n",
       "    </tr>\n",
       "    <tr>\n",
       "      <th>1</th>\n",
       "      <td>google</td>\n",
       "      <td>sales executive</td>\n",
       "      <td>masters</td>\n",
       "    </tr>\n",
       "    <tr>\n",
       "      <th>2</th>\n",
       "      <td>google</td>\n",
       "      <td>business manager</td>\n",
       "      <td>bachelors</td>\n",
       "    </tr>\n",
       "    <tr>\n",
       "      <th>3</th>\n",
       "      <td>google</td>\n",
       "      <td>business manager</td>\n",
       "      <td>masters</td>\n",
       "    </tr>\n",
       "    <tr>\n",
       "      <th>4</th>\n",
       "      <td>google</td>\n",
       "      <td>computer programmer</td>\n",
       "      <td>bachelors</td>\n",
       "    </tr>\n",
       "  </tbody>\n",
       "</table>\n",
       "</div>"
      ],
      "text/plain": [
       "  company                  job     degree\n",
       "0  google      sales executive  bachelors\n",
       "1  google      sales executive    masters\n",
       "2  google     business manager  bachelors\n",
       "3  google     business manager    masters\n",
       "4  google  computer programmer  bachelors"
      ]
     },
     "execution_count": 31,
     "metadata": {},
     "output_type": "execute_result"
    }
   ],
   "source": [
    "input = data.drop('salary_more_then_100k', axis=1)\n",
    "output = data.salary_more_then_100k\n",
    "input.head()"
   ]
  },
  {
   "cell_type": "markdown",
   "metadata": {},
   "source": [
    "##### Encode label"
   ]
  },
  {
   "cell_type": "code",
   "execution_count": 27,
   "metadata": {},
   "outputs": [],
   "source": [
    "import sklearn\n",
    "from sklearn.preprocessing import LabelEncoder"
   ]
  },
  {
   "cell_type": "code",
   "execution_count": 32,
   "metadata": {},
   "outputs": [],
   "source": [
    "Label_Company = LabelEncoder()\n",
    "Label_Job = LabelEncoder()\n",
    "Label_Degree = LabelEncoder()"
   ]
  },
  {
   "cell_type": "code",
   "execution_count": 33,
   "metadata": {
    "scrolled": true
   },
   "outputs": [
    {
     "data": {
      "text/html": [
       "<div>\n",
       "<style scoped>\n",
       "    .dataframe tbody tr th:only-of-type {\n",
       "        vertical-align: middle;\n",
       "    }\n",
       "\n",
       "    .dataframe tbody tr th {\n",
       "        vertical-align: top;\n",
       "    }\n",
       "\n",
       "    .dataframe thead th {\n",
       "        text-align: right;\n",
       "    }\n",
       "</style>\n",
       "<table border=\"1\" class=\"dataframe\">\n",
       "  <thead>\n",
       "    <tr style=\"text-align: right;\">\n",
       "      <th></th>\n",
       "      <th>new_company</th>\n",
       "      <th>new_job</th>\n",
       "      <th>new_degree</th>\n",
       "    </tr>\n",
       "  </thead>\n",
       "  <tbody>\n",
       "    <tr>\n",
       "      <th>0</th>\n",
       "      <td>2</td>\n",
       "      <td>2</td>\n",
       "      <td>0</td>\n",
       "    </tr>\n",
       "    <tr>\n",
       "      <th>1</th>\n",
       "      <td>2</td>\n",
       "      <td>2</td>\n",
       "      <td>1</td>\n",
       "    </tr>\n",
       "    <tr>\n",
       "      <th>2</th>\n",
       "      <td>2</td>\n",
       "      <td>0</td>\n",
       "      <td>0</td>\n",
       "    </tr>\n",
       "    <tr>\n",
       "      <th>3</th>\n",
       "      <td>2</td>\n",
       "      <td>0</td>\n",
       "      <td>1</td>\n",
       "    </tr>\n",
       "    <tr>\n",
       "      <th>4</th>\n",
       "      <td>2</td>\n",
       "      <td>1</td>\n",
       "      <td>0</td>\n",
       "    </tr>\n",
       "  </tbody>\n",
       "</table>\n",
       "</div>"
      ],
      "text/plain": [
       "   new_company  new_job  new_degree\n",
       "0            2        2           0\n",
       "1            2        2           1\n",
       "2            2        0           0\n",
       "3            2        0           1\n",
       "4            2        1           0"
      ]
     },
     "execution_count": 33,
     "metadata": {},
     "output_type": "execute_result"
    }
   ],
   "source": [
    "input['new_company'] = Label_Company.fit_transform(input.company)\n",
    "input['new_job'] = Label_Job.fit_transform(input.job)\n",
    "input['new_degree'] = Label_Degree.fit_transform(input.degree)\n",
    "input = input.drop(input.columns[0:3], axis =1)\n",
    "input.head()"
   ]
  },
  {
   "cell_type": "markdown",
   "metadata": {},
   "source": [
    "###  Import Tree Model from sklearn and using"
   ]
  },
  {
   "cell_type": "code",
   "execution_count": 49,
   "metadata": {
    "scrolled": true
   },
   "outputs": [
    {
     "data": {
      "text/plain": [
       "{'ccp_alpha': 0.0,\n",
       " 'class_weight': None,\n",
       " 'criterion': 'gini',\n",
       " 'max_depth': None,\n",
       " 'max_features': None,\n",
       " 'max_leaf_nodes': None,\n",
       " 'min_impurity_decrease': 0.0,\n",
       " 'min_impurity_split': None,\n",
       " 'min_samples_leaf': 1,\n",
       " 'min_samples_split': 2,\n",
       " 'min_weight_fraction_leaf': 0.0,\n",
       " 'presort': 'deprecated',\n",
       " 'random_state': None,\n",
       " 'splitter': 'best'}"
      ]
     },
     "execution_count": 49,
     "metadata": {},
     "output_type": "execute_result"
    }
   ],
   "source": [
    "from sklearn import tree\n",
    "model = tree.DecisionTreeClassifier()\n",
    "model.fit(input, output)\n",
    "model.get_params()"
   ]
  },
  {
   "cell_type": "markdown",
   "metadata": {},
   "source": [
    "- criterion: Phương pháp chọn root node  ( Gini hoặc entrophy)\n",
    "\n",
    "\n",
    "- Max_depth: Chiều tối đa của cây. Nếu để mặc định, thì các nút được mở rộng cho đến khi tất cả các lá đều thuần túy hoặc cho đến khi tất cả các lá chứa ít hơn mẫu min_samples_split. Max_dept càng cao thì thông tin nhận được sẽ nhiều hơn tuy nhiên dễ dẫn tới overfit\n",
    "\n",
    "\n",
    "- min_samples_split: Số lượng mẫu tối thiếu để tách node. Có thể nhập int hoặc float. \n",
    "       - Nếu là int thì là số mẫu tối thiểu, \n",
    "       - Float thì sẽ là tỷ lệ, tức là số mẫu tối thiểu = float x Số lượng sample\n",
    "       \n",
    "- min_samples_leaf: Leaf node là 1 node mà k có node con. Đây là số lượng phần tử tối thiểu yêu cầu để được coi là 1 leaf\n",
    "       - Nếu là int thì là số mẫu tối thiểu, \n",
    "       - Float thì sẽ là tỷ lệ, tức là số mẫu tối thiểu = float x Số lượng sample\n",
    "       \n",
    "- max_features: Số lượng các Features được xem xét khi tìm kiếm sự phân chia tốt nhất:\n",
    "        - Nhập int: Số feature\n",
    "        - Nhập float: max_features = float * n_features\n",
    "        - Auto: thì max_features=sqrt(n_features).\n",
    "        - Sqrt: max_features=sqrt(n_features).\n",
    "        - log2: max_features=log2(n_features).\n",
    "        - None: max_features=n_features.\n",
    "        \n",
    "- Max leaf node (int, default=None): Số lượng lá tối đa\n",
    "\n",
    " \n",
    "- min_impurity_decrease (float, default=0.0): Một node sẽ được tách nếu sự phân tách này làm giảm impurity lớn hơn hoặc bằng giá trị này\n",
    " \n",
    " \n",
    "- min_impurity_split (float, default=0): Ngưỡng để dừng phân tách, 1 node se tách nếu impurity > giá trị này. còn nếu impurity bé hơn thì sẽ coi là 1 leaf\n",
    "\n",
    " \n",
    "- Class_weight: Thuật toán này thường hoạt động không tốt trên tập dữ liệu có nhãn k cân bằng. vì ở mỗi node khi bị tách, chúng bị chi phối bởi number of class. Nếu dữ liệu quá lệch về 1 class thì dataset là imbalance -> kq sẽ nghiêng về 1 class. DO vậy cần đánh trọng số để có kq tốt hơn. Class_weight = 'balance'\n",
    "\n",
    "- ccp_alpha: Chưa rõ lắm bổ xung sau\n",
    "\n",
    "\n",
    "- min_weight_fraction_leaf: Chưa rõ lắm bổ xung sau\n",
    "\n",
    "\n",
    "- splitter: Lựa chọn cách tách node, trong bộ tách “best” nó đánh giá tất cả các feature trong khi bộ tách “random” sử dụng một hàm thống nhất ngẫu nhiên với min_feature_value, max_feature_value và random_state làm đầu vào. CHƯA CLEAR LẮM\n",
    "\n",
    "-"
   ]
  },
  {
   "cell_type": "code",
   "execution_count": 48,
   "metadata": {
    "scrolled": true
   },
   "outputs": [
    {
     "data": {
      "text/plain": [
       "array([1], dtype=int64)"
      ]
     },
     "execution_count": 48,
     "metadata": {},
     "output_type": "execute_result"
    }
   ],
   "source": [
    "# predict company = google, job = executive, degree = masters \n",
    "        #=>>> 1 (Salary > 100k)\n",
    "model.predict([[2,1,1]])"
   ]
  }
 ],
 "metadata": {
  "kernelspec": {
   "display_name": "Python 3",
   "language": "python",
   "name": "python3"
  },
  "language_info": {
   "codemirror_mode": {
    "name": "ipython",
    "version": 3
   },
   "file_extension": ".py",
   "mimetype": "text/x-python",
   "name": "python",
   "nbconvert_exporter": "python",
   "pygments_lexer": "ipython3",
   "version": "3.8.3"
  }
 },
 "nbformat": 4,
 "nbformat_minor": 4
}
