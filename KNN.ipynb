{
 "cells": [
  {
   "cell_type": "markdown",
   "metadata": {},
   "source": [
    "# Giới thiệu\n",
    "\n",
    "Đây là 1 phương pháp đơn giản nhất. KNN tìm đầu ra của 1 điểm dữ liệu dựa vào K điểm dữ liệu lân cận gần nhất trong tập huấn luyện\n",
    "\n",
    "Mặc dù có nhiều hạn chế tuy nhiên khi giải 1 bài toán ta luôn cần 1 mô hình đơn giản để giải quyết nó trước, sau đó tìm cách tối ưu nó sau. Khi đó KNN vẫn là 1 giải pháp đầu tiên nên nghĩ tới"
   ]
  },
  {
   "cell_type": "markdown",
   "metadata": {},
   "source": [
    "# Tóm tắt cách làm\n",
    "\n",
    "###### B1: Chuẩn hóa (Scaler lại dữ liệu) vì sai lệch lớn giữa các Feature sẽ ảnh hưởng đến kết quả tính khoảng cách giữa chúng\n",
    "\n",
    "###### B2: Lựa chọn số điểm lân cận để so sánh (K)\n",
    "1 số cách chọn thông thường: \n",
    "\n",
    "- Sqrt(n) với n là số lượng data points\n",
    "\n",
    "\n",
    "- Loop để tìm ra K có kết quả phân loại tốt và tốc độ xử lý là phù hợp với yêu cầu\n",
    "\n",
    "\n",
    "###### B3: Lựa chọn K sample trong dataset mà gần với New_sample cần predict (Thường sử dụng Euclidean distance để tính khoảng cách)\n",
    "\n",
    "###### B4: Dựa vào kết quả của K sample đã được lựa chọn, đưa ra dự đoán dựa trên số đông "
   ]
  },
  {
   "cell_type": "markdown",
   "metadata": {},
   "source": [
    "# Ưu - nhược điểm\n",
    "\n",
    "###### Ưu điểm:\n",
    "1, Thuật toán đơn giản và dễ thực hiện\n",
    "\n",
    "2, Không cần xây dựng mô hình, điều chỉnh params nhiều\n",
    "\n",
    "\n",
    "###### Nhược điểm\n",
    "\n",
    "1, Thuật toán chậm khi số lượng sample và feature tăng\n",
    "\n",
    "2, KNN có thể nhạy cảm với nhiều khi K nhỏ"
   ]
  },
  {
   "cell_type": "markdown",
   "metadata": {},
   "source": [
    "# Khi nào sử dụng KNN\n",
    "\n",
    "###### 1, Khi data đã được dán nhãn\n",
    "\n",
    "Dữ liệu được gán nhãn rồi thì mới lựa chọn theo phương pháp voting được\n",
    "\n",
    "###### 2, Dữ liệu không bị nhiễu\n",
    "\n",
    "Như các phương pháp phân loại khác. KNN rất nhạy cảm với Outlier. Kết quả bị phụ thuộc nhiều vào chất lượng data. Dữ liệu bị gán nhãn sai cũng như các Outlier và sự chồng chéo giữa các vùng dữ liệu thuộc các lớp khác nhau dẫn tới việc phân loại kém. \n",
    "###### 3, Dữ liệu không quá lớn\n",
    "\n",
    "Với mỗi sample KNN sẽ tính toán khoảng cách tới tất cả các tranning data và lưu chúng lại, Sau đó sort chúng để chọn ra K vector gần nhất. Nếu dữ liệu lớn và có nhiều feature, việc tính toán và lưu trữ sẽ rất tốn thời gian"
   ]
  },
  {
   "cell_type": "code",
   "execution_count": 4,
   "metadata": {},
   "outputs": [],
   "source": [
    "import csv\n",
    "import numpy as np\n",
    "import math\n",
    "import pandas as pd\n",
    "import cv2\n",
    "import matplotlib.pyplot as plt"
   ]
  },
  {
   "cell_type": "code",
   "execution_count": 22,
   "metadata": {},
   "outputs": [],
   "source": [
    "def loadData(path):\n",
    "    f = open(path, \"r\")\n",
    "    data = csv.reader(f) #csv format\n",
    "    data = np.array(list(data))# covert to matrix\n",
    "    data = np.delete(data, 0, 0)# delete header\n",
    "    data = np.delete(data, 0, 1) # delete index\n",
    "    np.random.shuffle(data) # shuffle data\n",
    "    f.close()\n",
    "    trainSet = data[:100] #training data from 1->100\n",
    "    testSet = data[100:]# the others is testing data\n",
    "    return trainSet, testSet\n",
    "\n",
    "def calcDistancs(pointA, pointB, numOfFeature=4):\n",
    "    tmp = 0\n",
    "    for i in range(numOfFeature):\n",
    "        tmp += (float(pointA[i]) - float(pointB[i])) ** 2  #chỉ lấy 4 feature đầu tiên do cột cuối cùng là kết quả\n",
    "    return math.sqrt(tmp)                                  # Trả ra kết quả tính khoảng cách \n",
    "\n",
    "\n",
    "\n",
    "def kNearestNeighbor(trainSet, point, k):    #\n",
    "    distances = []    \n",
    "    for item in trainSet:                    #Loop1: Loop qua hết bản ghi của trainset\n",
    "        distances.append({                            #tạo dict: {label : khoảng cách từ $1$ point tới tất cả points của train }\n",
    "            \"label\": item[-1],\n",
    "            \"value\": calcDistancs(item, point)                   #Chạy funct calDistancs để tính khoảng cách\n",
    "        })\n",
    "    distances.sort(key=lambda x: x[\"value\"])          # sort lại theo khoảng cách\n",
    "    labels = [item[\"label\"] for item in distances]    # Lấy tên clabel sau khi đã sort\n",
    "    return labels[:k]                       # Lấy K kết quả nhãn gần nhất\n",
    "\n",
    "\n",
    "\n",
    "def findMostOccur(arr):\n",
    "    labels = set(arr)           # lấy ra danh sách label unique, rồi loop danh sách này với bản gốc để đếm số lần xuất hiện\n",
    "    ans = \"\"\n",
    "    maxOccur = 0\n",
    "    for label in labels:        # Loop1:Duyệt qua từng nhãn thu đc, cập nhật nhãn có số lần xuất hiện nhiều nhất qua mỗi vòng\n",
    "        num = arr.count(label)             # đếm trong list kết quả mới thu được, lable đấy chiếm bao nhiêu lần,\n",
    "        if num > maxOccur:                 # Nếu số lần lớn hơn kết quả trước đó (first_time = 0) thì :\n",
    "            maxOccur = num                         #- Update lại maxOrcur\n",
    "            ans = label                            #- Gán nhãn dữ liệu tìm được, quay lại vòng For để tìm các Kết Qủa còn lại\n",
    "                              \n",
    "    return ans                   # Sau khi chạy hết vòng loop sẽ Trả ra kết quả nhãn chiếm đa số\n"
   ]
  },
  {
   "cell_type": "code",
   "execution_count": 28,
   "metadata": {
    "scrolled": true
   },
   "outputs": [],
   "source": [
    "trainSet, testSet = loadData(\"./Iris.csv\")"
   ]
  },
  {
   "cell_type": "code",
   "execution_count": 277,
   "metadata": {
    "scrolled": true
   },
   "outputs": [
    {
     "name": "stdout",
     "output_type": "stream",
     "text": [
      "label: Iris-versicolor -> predicted: Iris-versicolor\n",
      "label: Iris-versicolor -> predicted: Iris-versicolor\n",
      "label: Iris-virginica -> predicted: Iris-virginica\n",
      "label: Iris-virginica -> predicted: Iris-virginica\n",
      "label: Iris-versicolor -> predicted: Iris-virginica\n",
      "label: Iris-versicolor -> predicted: Iris-versicolor\n",
      "label: Iris-versicolor -> predicted: Iris-versicolor\n",
      "label: Iris-versicolor -> predicted: Iris-versicolor\n",
      "label: Iris-versicolor -> predicted: Iris-versicolor\n",
      "label: Iris-setosa -> predicted: Iris-setosa\n",
      "label: Iris-setosa -> predicted: Iris-setosa\n",
      "label: Iris-virginica -> predicted: Iris-virginica\n",
      "label: Iris-virginica -> predicted: Iris-virginica\n",
      "label: Iris-versicolor -> predicted: Iris-versicolor\n",
      "label: Iris-versicolor -> predicted: Iris-versicolor\n",
      "label: Iris-versicolor -> predicted: Iris-versicolor\n",
      "label: Iris-setosa -> predicted: Iris-setosa\n",
      "label: Iris-versicolor -> predicted: Iris-versicolor\n",
      "label: Iris-setosa -> predicted: Iris-setosa\n",
      "label: Iris-virginica -> predicted: Iris-virginica\n",
      "label: Iris-setosa -> predicted: Iris-setosa\n",
      "label: Iris-virginica -> predicted: Iris-virginica\n",
      "label: Iris-setosa -> predicted: Iris-setosa\n",
      "label: Iris-virginica -> predicted: Iris-virginica\n",
      "label: Iris-setosa -> predicted: Iris-setosa\n",
      "label: Iris-versicolor -> predicted: Iris-versicolor\n",
      "label: Iris-setosa -> predicted: Iris-setosa\n",
      "label: Iris-virginica -> predicted: Iris-virginica\n",
      "label: Iris-virginica -> predicted: Iris-versicolor\n",
      "label: Iris-versicolor -> predicted: Iris-versicolor\n",
      "label: Iris-virginica -> predicted: Iris-virginica\n",
      "label: Iris-setosa -> predicted: Iris-setosa\n",
      "label: Iris-versicolor -> predicted: Iris-versicolor\n",
      "label: Iris-virginica -> predicted: Iris-virginica\n",
      "label: Iris-setosa -> predicted: Iris-setosa\n",
      "label: Iris-virginica -> predicted: Iris-virginica\n",
      "label: Iris-virginica -> predicted: Iris-virginica\n",
      "label: Iris-versicolor -> predicted: Iris-virginica\n",
      "label: Iris-setosa -> predicted: Iris-setosa\n",
      "label: Iris-setosa -> predicted: Iris-setosa\n",
      "label: Iris-setosa -> predicted: Iris-setosa\n",
      "label: Iris-setosa -> predicted: Iris-setosa\n",
      "label: Iris-virginica -> predicted: Iris-virginica\n",
      "label: Iris-versicolor -> predicted: Iris-versicolor\n",
      "label: Iris-setosa -> predicted: Iris-setosa\n",
      "label: Iris-versicolor -> predicted: Iris-versicolor\n",
      "label: Iris-versicolor -> predicted: Iris-versicolor\n",
      "label: Iris-virginica -> predicted: Iris-virginica\n",
      "label: Iris-setosa -> predicted: Iris-setosa\n",
      "label: Iris-setosa -> predicted: Iris-setosa\n",
      "\n",
      "\n",
      " NumOfRightAnwser: 47, test_size 50, Tỷ lệ chính xác = 0.94\n"
     ]
    }
   ],
   "source": [
    "numOfRightAnwser = 0\n",
    "for item in testSet:                               #Loop2: Chạy nốt các phần còn lại trong item với Loop1\n",
    "    Distancs = kNearestNeighbor(trainSet, item, 5)       #Loop1: Tính khoảng cách từ 1 điểm trong test_set tới tất cả các điểm\n",
    "                                                         #của train_data\n",
    "                                                                   #Sort và lấy 5 nhãn dữ liệu có Distance nhỏ nhất                     \n",
    "    \n",
    "    answer = findMostOccur(Distancs)                     # Trả tra kết quả nhãn tìm được\n",
    "    numOfRightAnwser += item[-1] == answer\n",
    "    print(\"label: {} -> predicted: {}\".format(item[-1], answer))\n",
    "print(\"\\n\\n NumOfRightAnwser: {}, test_size {}, Tỷ lệ chính xác = {}\".format(numOfRightAnwser,len(testSet),numOfRightAnwser/len(testSet)))"
   ]
  },
  {
   "cell_type": "markdown",
   "metadata": {},
   "source": [
    "###### KNN - Phân loại ảnh\n",
    "https://github.com/henry2394/henry/blob/main/KNN%20-%20Ph%C3%A2n%20lo%E1%BA%A1i%20%E1%BA%A3nh.ipynb"
   ]
  },
  {
   "cell_type": "code",
   "execution_count": 283,
   "metadata": {
    "scrolled": true
   },
   "outputs": [
    {
     "data": {
      "text/plain": [
       "[<matplotlib.lines.Line2D at 0x14a2b360fd0>]"
      ]
     },
     "execution_count": 283,
     "metadata": {},
     "output_type": "execute_result"
    },
    {
     "data": {
      "image/png": "[encoded data removed]",
      "text/plain": [
       "<Figure size 432x288 with 1 Axes>"
      ]
     },
     "metadata": {
      "needs_background": "light"
     },
     "output_type": "display_data"
    }
   ],
   "source": [
    "result = []\n",
    "k = []\n",
    "for i in range(100):\n",
    "    k.append(i)\n",
    "    numOfRightAnwser = 0\n",
    "    for item in testSet:\n",
    "        Distancs = kNearestNeighbor(trainSet, item, i)\n",
    "        answer = findMostOccur(Distancs)\n",
    "        numOfRightAnwser += item[-1] == answer\n",
    "    result.append(numOfRightAnwser/len(testSet))\n",
    "    \n",
    "import matplotlib.pyplot as plt\n",
    "plt.plot(k,result)\n",
    "\n",
    "# Khi càng tăng K kết quả có thể sẽ giảm xuống rất nhiều vì bị nhiễu"
   ]
  },
  {
   "cell_type": "markdown",
   "metadata": {},
   "source": [
    "# 1 Số phương pháp để cải thiện nhược điểm của KNN"
   ]
  },
  {
   "cell_type": "markdown",
   "metadata": {},
   "source": [
    "### 1. Đánh trọng số cho các điểm lân cân\n",
    "Với kĩ thuật trên thì trong các điểm gần nhất có VAI TRÒ như nhau --> Không công bằng vì các điểm gần hơn nên có trọng số cao hơn.\n",
    "\n",
    "Cách 1: Lấy nghịch đảo của khoảng cách tới điểm lân cận, 1 số trường hợp nếu khoảng cách =0 thì lấy đâu ra của điểm đó luôn.\n",
    "Trong sklearn ta set param weights = 'distance'"
   ]
  },
  {
   "cell_type": "code",
   "execution_count": 267,
   "metadata": {},
   "outputs": [],
   "source": [
    "def kNearestNeighbor2(trainSet, point, k):    #\n",
    "    distances = pd.DataFrame(columns=['label','value'])\n",
    "    label = []\n",
    "    value = []\n",
    "    for item in trainSet:                    \n",
    "        if calcDistancs(item, point) ==0:\n",
    "            return item[-1]\n",
    "        else:\n",
    "            label.append(item[-1])\n",
    "            value.append(1/calcDistancs(item, point))                  \n",
    "    distances.label = label\n",
    "    distances.value = value\n",
    "    distances = distances.sort_values('value', ascending= False).iloc[:k]\n",
    "    ans = distances.groupby('label').sum().sort_values('value',ascending=False).reset_index().iloc[0].label\n",
    "    return ans"
   ]
  },
  {
   "cell_type": "code",
   "execution_count": 268,
   "metadata": {
    "scrolled": true
   },
   "outputs": [
    {
     "name": "stdout",
     "output_type": "stream",
     "text": [
      "label Iris-versicolor  / Predict: Iris-versicolor \n",
      "label Iris-versicolor  / Predict: Iris-versicolor \n",
      "label Iris-virginica  / Predict: Iris-virginica \n",
      "label Iris-virginica  / Predict: Iris-virginica \n",
      "label Iris-versicolor  / Predict: Iris-virginica \n",
      "label Iris-versicolor  / Predict: Iris-versicolor \n",
      "label Iris-versicolor  / Predict: Iris-versicolor \n",
      "label Iris-versicolor  / Predict: Iris-versicolor \n",
      "label Iris-versicolor  / Predict: Iris-versicolor \n",
      "label Iris-setosa  / Predict: Iris-setosa \n",
      "label Iris-setosa  / Predict: Iris-setosa \n",
      "label Iris-virginica  / Predict: Iris-virginica \n",
      "label Iris-virginica  / Predict: Iris-virginica \n",
      "label Iris-versicolor  / Predict: Iris-versicolor \n",
      "label Iris-versicolor  / Predict: Iris-versicolor \n",
      "label Iris-versicolor  / Predict: Iris-versicolor \n",
      "label Iris-setosa  / Predict: Iris-setosa \n",
      "label Iris-versicolor  / Predict: Iris-versicolor \n",
      "label Iris-setosa  / Predict: Iris-setosa \n",
      "label Iris-virginica  / Predict: Iris-virginica \n",
      "label Iris-setosa  / Predict: Iris-setosa \n",
      "label Iris-virginica  / Predict: Iris-virginica \n",
      "label Iris-setosa  / Predict: Iris-setosa \n",
      "label Iris-virginica  / Predict: Iris-virginica \n",
      "label Iris-setosa  / Predict: Iris-setosa \n",
      "label Iris-versicolor  / Predict: Iris-versicolor \n",
      "label Iris-setosa  / Predict: Iris-setosa \n",
      "label Iris-virginica  / Predict: Iris-virginica \n",
      "label Iris-virginica  / Predict: Iris-versicolor \n",
      "label Iris-versicolor  / Predict: Iris-versicolor \n",
      "label Iris-virginica  / Predict: Iris-virginica \n",
      "label Iris-setosa  / Predict: Iris-setosa \n",
      "label Iris-versicolor  / Predict: Iris-versicolor \n",
      "label Iris-virginica  / Predict: Iris-virginica \n",
      "label Iris-setosa  / Predict: Iris-setosa \n",
      "label Iris-virginica  / Predict: Iris-virginica \n",
      "label Iris-virginica  / Predict: Iris-virginica \n",
      "label Iris-versicolor  / Predict: Iris-virginica \n",
      "label Iris-setosa  / Predict: Iris-setosa \n",
      "label Iris-setosa  / Predict: Iris-setosa \n",
      "label Iris-setosa  / Predict: Iris-setosa \n",
      "label Iris-setosa  / Predict: Iris-setosa \n",
      "label Iris-virginica  / Predict: Iris-virginica \n",
      "label Iris-versicolor  / Predict: Iris-versicolor \n",
      "label Iris-setosa  / Predict: Iris-setosa \n",
      "label Iris-versicolor  / Predict: Iris-versicolor \n",
      "label Iris-versicolor  / Predict: Iris-versicolor \n",
      "label Iris-virginica  / Predict: Iris-virginica \n",
      "label Iris-setosa  / Predict: Iris-setosa \n",
      "label Iris-setosa  / Predict: Iris-setosa \n",
      "\n",
      "\n",
      " NumOfRightAnwser: 47, test_size 50, Tỷ lệ chính xác = 0.94\n"
     ]
    }
   ],
   "source": [
    "right = 0\n",
    "for item in testSet:                              \n",
    "    answer = kNearestNeighbor2(trainSet, item, 5)\n",
    "    right += item[-1] == answer\n",
    "    print(\"label {}  / Predict: {} \".format(item[-1],answer))\n",
    "    \n",
    "print(\"\\n\\n NumOfRightAnwser: {}, test_size {}, Tỷ lệ chính xác = {}\".format(right,len(testSet),right/len(testSet)))"
   ]
  },
  {
   "cell_type": "markdown",
   "metadata": {},
   "source": [
    "### 2. Sử dụng khoảng Min/Max point của từng Class để tăng tốc độ tính toán với dữ liệu lớn\n",
    "\n",
    "###### B1: Tại mỗi Class tìm ra phạm vi/không gian của nó bằng cách xác định min/max point, Boundary của toàn bộ dữ liệu\n",
    "\n",
    "    Vd: Class A = {(11,19,18),(10,26,17),(25,25,19),(29,17,18),(31,12,20)}\n",
    "        --->    Max_point = (31,26,20)    /    Min_point = (10,12,17)\n",
    "        --->    Boundary (Các điểm nằm trên min/max point)  =  {(10,26,17),(31,12,20)}\n",
    "        \n",
    "        \n",
    "        Class B = {(1,1,6),(2,5,7),(3,7,8),(4,9,3),(5,2,10)}\n",
    "        --->    Max_point = (5,9,10)    /    Min_point = (1,1,3)\n",
    "        --->    Boundary (Các điểm nằm trên min/max point) = {(1,1,6),(4,9,3),(5,2,10)}     \n",
    "        \n",
    "###### B2: Xác định Class cho điểm dữ liệu mới\n",
    "\n",
    "    (1) Nếu điểm dữ liệu nó thuộc khoảng Min - Max point --> Nhận luôn giá trị của Class đó\n",
    "        \n",
    "        VD: Điểm  c(15,18,18) thuộc min-max point của Class A --> Kết quả được gán là A\n",
    "    \n",
    "    (2) Nếu điểm dữ liệu không thuộc khoảng Min-Max point của bất kỳ class nào cả --> Tính khoảng cách của nó tới Boundaries của mỗi Class. Lựa chọn Class mà có khoảng cách tới Boundaries là nhỏ nhất\n",
    "    \n",
    "        VD: Điểm  t(6,10,2) Không thuộc min-max point của Class A  hay Class B --> Tính khoảng cách của d tới mọi Boundaries của Class A và Class B . \n",
    "            Khoảng cách ngắn nhất từ t -> Class B = 2.449\n",
    "            Khoảng cách ngắn nhất từ t -> Class A = 22.293\n",
    "             ----> Gán cho kết quả là Class B\n",
    "\n",
    "###### Lưu ý: Trong trường hợp Min-Max point của các Class trùng nhau, ta sẽ bỏ giá trị hiện tại đi và lấy cái điểm Max/Min tiếp theo trong tập dữ liệu cho tới khi không gian của các Class không còn trùng nhau nữa, ví dụ:\n",
    "\n",
    "    C3={(1,1),(2,2),(1,16),(10,1),(10,15),(12,1),(12,16)}  --> C3min = (1,1) và C3max = (12,16)\n",
    "    C4={(10,2),(13,3),(13,17),(10,18),(19,17),(20,2),(20,18)}  --> C4min = (10,2) và C4max = (20,18)\n",
    "    \n",
    "    ----> C3max nằm trong khoảng min-max point của C4. Do vậy điểm T = (10,9) không thể xác định được. Khi đó ta lấy lùi lại 1 đơn vị min/max của cả 2 Class. Min-Max poitn sẽ thay đổi: \n",
    "          C3min = (2,2) và C3max = (10,15)  //   C4min = (13,3) và C4max = (19,17)\n",
    "                ->  T = (10,9) thuộc Class C3\n",
    "                \n",
    "                \n",
    "    T2 = (11,9) Không thuộc class nào cả. Mặc dù sau khi điều chỉnh, Min-max point có thay đổi, tuy nhiên ta vẫn giữ nguyên cái Boundary ban đâu và tính toán khoảng cách từ T2 tới các Boundaries. Lựa chọn khoảng cách ngắn nhất và gán nhãn\n",
    "           Ta có T3 --> C3: 6.08  // T3 --> C4: 6.32  ==> T2 thuộc C3\n",
    "\n",
    "\n",
    "        "
   ]
  }
 ],
 "metadata": {
  "kernelspec": {
   "display_name": "Python 3",
   "language": "python",
   "name": "python3"
  },
  "language_info": {
   "codemirror_mode": {
    "name": "ipython",
    "version": 3
   },
   "file_extension": ".py",
   "mimetype": "text/x-python",
   "name": "python",
   "nbconvert_exporter": "python",
   "pygments_lexer": "ipython3",
   "version": "3.8.5"
  }
 },
 "nbformat": 4,
 "nbformat_minor": 4
}
